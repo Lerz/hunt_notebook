{
 "cells": [
  {
   "cell_type": "markdown",
   "metadata": {},
   "source": [
    "# 🧪 Hunt VPN-based Exfiltration\n",
    "Objectif : identifier des connexions suspectes vers des fournisseurs de VPN depuis un réseau invité ou une enclave contrôlée.\n",
    "Étapes :\n",
    "- Recherche de domaines ou ASN liés à ProtonVPN, NordVPN, etc.\n",
    "- Détection de pics de transfert en HTTPS ou TCP/443"
   ]
  },
  {
   "cell_type": "code",
   "execution_count": null,
   "metadata": {},
   "outputs": [],
   "source": [
    "import pandas as pd"
   ]
  },
  {
   "cell_type": "code",
   "execution_count": null,
   "metadata": {},
   "outputs": [],
   "source": [
    "vpn_domains = [\"protonvpn.com\", \"nordvpn.com\", \"vpnbook.com\", \"hide.me\", \"psiphon.ca\"]\n",
    "df_vpn = df[df[\"url_domain\"].isin(vpn_domains)]\n",
    "df_vpn.groupby(\"src_ip\")[\"bytes_out\"].sum().sort_values(ascending=False)"
   ]
  }
 ],
 "metadata": {
  "kernelspec": {
   "display_name": "Python 3 (ipykernel)",
   "language": "python",
   "name": "python3"
  },
  "language_info": {
   "codemirror_mode": {
    "name": "ipython",
    "version": 3
   },
   "file_extension": ".py",
   "mimetype": "text/x-python",
   "name": "python",
   "nbconvert_exporter": "python",
   "pygments_lexer": "ipython3",
   "version": "3.10.0"
  }
 },
 "nbformat": 4,
 "nbformat_minor": 4
}
