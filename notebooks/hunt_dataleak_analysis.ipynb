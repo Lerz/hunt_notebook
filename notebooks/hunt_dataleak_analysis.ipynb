{
 "cells": [
  {
   "cell_type": "markdown",
   "metadata": {},
   "source": [
    "# 🔍 Hunt Splunk - Data Leak Analysis (Offline / Airgapped)\n",
    "\n",
    "Notebook pour l'analyse de logs Stormshield exportés depuis Splunk.\n",
    "\n",
    "**Objectif** : identifier des exfiltrations de données, accès suspects, transferts vers services cloud, etc.\n"
   ]
  },
  {
   "cell_type": "code",
   "execution_count": null,
   "metadata": {},
   "outputs": [],
   "source": [
    "# 📦 Chargement des librairies\n",
    "import pandas as pd\n",
    "import numpy as np\n",
    "import matplotlib.pyplot as plt\n",
    "import seaborn as sns\n",
    "from ipaddress import ip_address, ip_network\n",
    "from tqdm import tqdm\n",
    "\n",
    "tqdm.pandas()"
   ]
  },
  {
   "cell_type": "code",
   "execution_count": null,
   "metadata": {},
   "outputs": [],
   "source": [
    "# 📁 Chargement du dataset Splunk exporté en CSV\n",
    "df = pd.read_csv('../datasets/stormshield_logs.csv')  # adapte le chemin si besoin\n",
    "df['_time'] = pd.to_datetime(df['_time'])\n",
    "df.head()"
   ]
  },
  {
   "cell_type": "code",
   "execution_count": null,
   "metadata": {},
   "outputs": [],
   "source": [
    "# 🧹 Nettoyage et enrichissement : IP interne/externe\n",
    "PRIVATE_CIDRS = [\n",
    "    ip_network('10.0.0.0/8'),\n",
    "    ip_network('172.16.0.0/12'),\n",
    "    ip_network('192.168.0.0/16')\n",
    "]\n",
    "\n",
    "def classify_ip(ip):\n",
    "    try:\n",
    "        ip_obj = ip_address(ip)\n",
    "        if any(ip_obj in cidr for cidr in PRIVATE_CIDRS):\n",
    "            return 'Interne'\n",
    "        return 'Externe'\n",
    "    except:\n",
    "        return 'Invalide'\n",
    "\n",
    "df['ip_type'] = df['src_ip'].progress_apply(classify_ip)"
   ]
  },
  {
   "cell_type": "code",
   "execution_count": null,
   "metadata": {},
   "outputs": [],
   "source": [
    "# 📊 Statistiques globales\n",
    "df['total_bytes'] = df['bytes_out'] + df['bytes_in']\n",
    "df['total_Go'] = (df['total_bytes'] / 1024**3).round(3)\n",
    "df.groupby(['src_ip', 'ip_type'])['total_Go'].sum().sort_values(ascending=False).head(20)"
   ]
  },
  {
   "cell_type": "code",
   "execution_count": null,
   "metadata": {},
   "outputs": [],
   "source": [
    "# 📈 Volume horaire par IP source\n",
    "df['hour'] = df['_time'].dt.floor('H')\n",
    "pivot = df.pivot_table(index='hour', columns='src_ip', values='total_bytes', aggfunc='sum').fillna(0)\n",
    "pivot = pivot / 1024**2  # en Mo\n",
    "pivot.plot(figsize=(15,6), title='Volume horaire par IP source (Mo)')\n",
    "plt.ylabel('Mo')\n",
    "plt.grid(True)\n",
    "plt.tight_layout()"
   ]
  },
  {
   "cell_type": "code",
   "execution_count": null,
   "metadata": {},
   "outputs": [],
   "source": [
    "# 🧪 Filtrage des services de transfert (Dropbox, Mega, Wetransfer, etc.)\n",
    "cloud_services = ['dropbox.com', 'mega.nz', 'wetransfer.com', 'transfer.sh', 'anonfiles.com', 'file.io', 'gofile.io']\n",
    "df_cloud = df[df['url_domain'].isin(cloud_services)]\n",
    "df_cloud[['src_ip', 'url_domain', 'total_Go']].sort_values(by='total_Go', ascending=False).head(20)"
   ]
  },
  {
   "cell_type": "markdown",
   "metadata": {},
   "source": [
    "Tu peux enrichir ce notebook avec :\n",
    "- un mapping IP → utilisateur (depuis Sysmon ou autre)\n",
    "- une lookup manuelle pour marquer les postes sensibles\n",
    "- une analyse par `dest_ip` ou `port_type` si tu les as\n",
    "- des clusters de comportement avec `scikit-learn`"
   ]
  }
 ],
 "metadata": {
  "kernelspec": {
   "display_name": "Python 3 (ipykernel)",
   "language": "python",
   "name": "python3"
  },
  "language_info": {
   "codemirror_mode": {
    "name": "ipython",
    "version": 3
   },
   "file_extension": ".py",
   "mimetype": "text/x-python",
   "name": "python",
   "nbconvert_exporter": "python",
   "pygments_lexer": "ipython3",
   "version": "3.10.0"
  }
 },
 "nbformat": 4,
 "nbformat_minor": 4
}
