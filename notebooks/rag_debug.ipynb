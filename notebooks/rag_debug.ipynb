{
 "cells": [
  {
   "cell_type": "markdown",
   "metadata": {},
   "source": [
    "# 🧠 RAG Debug Notebook\n",
    "Interroge localement ta base vectorielle découpée par section Markdown.\n",
    "\n",
    "- Utilise Sentence Transformers + FAISS\n",
    "- Recherche contextuelle sur le corpus ./processed_docs/\n",
    "- Affiche les passages les plus pertinents pour un prompt"
   ]
  },
  {
   "cell_type": "code",
   "execution_count": null,
   "metadata": {},
   "outputs": [],
   "source": [
    "import sys\n",
    "from pathlib import Path\n",
    "\n",
    "# Ajoute le dossier 'scripts' au PYTHONPATH pour les imports\n",
    "scripts_path = Path(\"../scripts\").resolve()\n",
    "if str(scripts_path) not in sys.path:\n",
    "    sys.path.append(str(scripts_path))\n",
    "    print(f\"[✔] Dossier 'scripts' ajouté au PYTHONPATH: {scripts_path}\")\n",
    "else:\n",
    "    print(f\"[✔] Dossier 'scripts' déjà présent dans le PYTHONPATH: {scripts_path}\")"
   ]
  },
  {
   "cell_type": "code",
   "execution_count": null,
   "metadata": {},
   "outputs": [],
   "source": [
    "# ✅ Initialisation\n",
    "from rag_engine import get_context"
   ]
  },
  {
   "cell_type": "code",
   "execution_count": 1,
   "metadata": {},
   "outputs": [
    {
     "ename": "SyntaxError",
     "evalue": "invalid syntax. Perhaps you forgot a comma? (3222068308.py, line 2)",
     "output_type": "error",
     "traceback": [
      "\u001b[1;36m  Cell \u001b[1;32mIn[1], line 2\u001b[1;36m\u001b[0m\n\u001b[1;33m    query = \"comment utiliser une macro dans Splunk\"ctx = get_context(query, top_k=3)\u001b[0m\n\u001b[1;37m            ^\u001b[0m\n\u001b[1;31mSyntaxError\u001b[0m\u001b[1;31m:\u001b[0m invalid syntax. Perhaps you forgot a comma?\n"
     ]
    }
   ],
   "source": [
    "# 🔍 Exemple de recherche\n",
    "query = \"comment utiliser une macro dans Splunk\"\n",
    "ctx = get_context(query, top_k=3)\n",
    "print(ctx)"
   ]
  },
  {
   "cell_type": "code",
   "execution_count": null,
   "metadata": {},
   "outputs": [],
   "source": [
    "# 💡 Suggestion de requêtes\n",
    "# - comment fonctionne le SPL stats by\n",
    "# - quels ports sont associés à DNS tunneling\n",
    "# - donne une règle sigma pour exfiltration HTTP\n",
    "# - expliquer sourcetype vs index dans Splunk"
   ]
  }
 ],
 "metadata": {
  "kernelspec": {
   "display_name": "Python 3 (ipykernel)",
   "language": "python",
   "name": "python3"
  },
  "language_info": {
   "codemirror_mode": {
    "name": "ipython",
    "version": 3
   },
   "file_extension": ".py",
   "mimetype": "text/x-python",
   "name": "python",
   "nbconvert_exporter": "python",
   "pygments_lexer": "ipython3",
   "version": "3.10.0"
  }
 },
 "nbformat": 4,
 "nbformat_minor": 4
}
