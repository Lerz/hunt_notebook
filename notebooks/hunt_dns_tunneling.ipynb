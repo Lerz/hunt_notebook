{
 "cells": [
  {
   "cell_type": "markdown",
   "metadata": {},
   "source": [
    "# 🕳️ Hunt DNS TunnelingObjectif : détecter un usage détourné du protocole DNS pour exfiltrer des données.\n",
    "Étapes :\n",
    "1. Requêtes DNS très longues ou avec un nombre de labels élevé\n",
    "2. Domaine non résolu / inconnu\n",
    "3. Requêtes fréquentes vers un même domaine"
   ]
  },
  {
   "cell_type": "code",
   "execution_count": null,
   "metadata": {},
   "outputs": [],
   "source": [
    "import pandas as pd"
   ]
  },
  {
   "cell_type": "code",
   "execution_count": null,
   "metadata": {},
   "outputs": [],
   "source": [
    "df = pd.read_csv(\"../datasets/dns_logs.csv\")\n",
    "df[\"fqdn_len\"] = df[\"domain\"].str.len()\n",
    "df[\"labels\"] = df[\"domain\"].str.count(\"\\\\.\")\n",
    "# Seuils à adapter\n",
    "suspicious = df[(df[\"fqdn_len\"] > 80) | (df[\"labels\"] > 5)]\n",
    "suspicious.groupby(\"src_ip\")[\"domain\"].nunique().sort_values(ascending=False)"
   ]
  }
 ],
 "metadata": {
  "kernelspec": {
   "display_name": "Python 3 (ipykernel)",
   "language": "python",
   "name": "python3"
  },
  "language_info": {
   "codemirror_mode": {
    "name": "ipython",
    "version": 3
   },
   "file_extension": ".py",
   "mimetype": "text/x-python",
   "name": "python",
   "nbconvert_exporter": "python",
   "pygments_lexer": "ipython3",
   "version": "3.10.0"
  }
 },
 "nbformat": 4,
 "nbformat_minor": 4
}
