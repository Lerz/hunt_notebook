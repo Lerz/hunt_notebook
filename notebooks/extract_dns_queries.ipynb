{
 "cells": [
  {
   "cell_type": "markdown",
   "metadata": {},
   "source": [
    "# 📤 Extraction DNS queries\n",
    "Objectif : lister toutes les requêtes DNS pour une IP donnée ou une période donnée, et extraire les domaines, fréquences, patterns."
   ]
  },
  {
   "cell_type": "code",
   "execution_count": null,
   "metadata": {},
   "outputs": [],
   "source": [
    "import pandas as pd"
   ]
  },
  {
   "cell_type": "code",
   "execution_count": null,
   "metadata": {},
   "outputs": [],
   "source": [
    "dns = pd.read_csv(\"../datasets/dns_logs.csv\")\n",
    "# Exemple : requêtes de l’IP suspecte\n",
    "ip = \"172.22.11.42\"\n",
    "filtered = dns[dns[\"src_ip\"] == ip]filtered[\"domain\"].value_counts().head(20)"
   ]
  }
 ],
 "metadata": {
  "kernelspec": {
   "display_name": "Python 3 (ipykernel)",
   "language": "python",
   "name": "python3"
  },
  "language_info": {
   "codemirror_mode": {
    "name": "ipython",
    "version": 3
   },
   "file_extension": ".py",
   "mimetype": "text/x-python",
   "name": "python",
   "nbconvert_exporter": "python",
   "pygments_lexer": "ipython3",
   "version": "3.10.0"
  }
 },
 "nbformat": 4,
 "nbformat_minor": 4
}
